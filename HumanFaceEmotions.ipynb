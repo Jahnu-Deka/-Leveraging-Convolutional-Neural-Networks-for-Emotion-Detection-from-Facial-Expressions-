{
 "cells": [
  {
   "cell_type": "markdown",
   "id": "b119a471",
   "metadata": {},
   "source": [
    " ###  Convolutional Neural Networks for Emotion Detection from Facial Expressions"
   ]
  },
  {
   "cell_type": "markdown",
   "id": "b8bf1381",
   "metadata": {},
   "source": [
    "."
   ]
  },
  {
   "cell_type": "code",
   "execution_count": 1,
   "id": "a89c5073",
   "metadata": {},
   "outputs": [],
   "source": [
    "import os\n",
    "import cv2\n",
    "import numpy as np\n",
    "from sklearn.model_selection import train_test_split\n",
    "\n",
    "# Define constants\n",
    "IMG_SIZE = 48  # resize images to 48x48 pixels\n",
    "CATEGORIES = [\"Angry\", \"Happy\", \"Sad\"]  # emotion categories\n",
    "\n",
    "# Load and preprocess images\n",
    "data = []\n",
    "labels = []\n",
    "\n",
    "for category in CATEGORIES:\n",
    "    path = os.path.join(\".\", category)  # path to the category directory\n",
    "    class_num = CATEGORIES.index(category)  # assign a number to each category\n",
    "    for img in os.listdir(path):\n",
    "        try:\n",
    "            img_array = cv2.imread(os.path.join(path, img), cv2.IMREAD_GRAYSCALE)  # read image\n",
    "            resized_array = cv2.resize(img_array, (IMG_SIZE, IMG_SIZE))  # resize image\n",
    "            data.append(resized_array)\n",
    "            labels.append(class_num)\n",
    "        except Exception as e:\n",
    "            pass  # if any images fail to load, skip them\n",
    "\n",
    "# Convert lists to numpy arrays and normalize pixel values\n",
    "data = np.array(data).reshape(-1, IMG_SIZE, IMG_SIZE, 1) / 255.0\n",
    "labels = np.array(labels)\n",
    "\n",
    "# Split data into training and testing sets\n",
    "(trainX, testX, trainY, testY) = train_test_split(data, labels, test_size=0.2, stratify=labels, random_state=42)\n"
   ]
  },
  {
   "cell_type": "markdown",
   "id": "ff9df926",
   "metadata": {},
   "source": [
    "#### Define the model architecture"
   ]
  },
  {
   "cell_type": "markdown",
   "id": "08e53c77",
   "metadata": {},
   "source": [
    "."
   ]
  },
  {
   "cell_type": "code",
   "execution_count": 2,
   "id": "873b8a5a",
   "metadata": {},
   "outputs": [],
   "source": [
    "from tensorflow.keras.models import Sequential\n",
    "from tensorflow.keras.layers import Conv2D, MaxPooling2D, Flatten, Dense, Dropout\n",
    "\n",
    "# Define the model\n",
    "model = Sequential()\n",
    "\n",
    "model.add(Conv2D(32, (3, 3), activation='relu', input_shape=(IMG_SIZE, IMG_SIZE, 1)))\n",
    "model.add(MaxPooling2D(pool_size=(2, 2)))\n",
    "\n",
    "model.add(Conv2D(64, (3, 3), activation='relu'))\n",
    "model.add(MaxPooling2D(pool_size=(2, 2)))\n",
    "\n",
    "model.add(Flatten())\n",
    "model.add(Dense(64, activation='relu'))\n",
    "model.add(Dropout(0.5))\n",
    "model.add(Dense(len(CATEGORIES), activation='softmax'))\n"
   ]
  },
  {
   "cell_type": "markdown",
   "id": "7f53a6f2",
   "metadata": {},
   "source": [
    "#### Compile the model"
   ]
  },
  {
   "cell_type": "markdown",
   "id": "d55b0e97",
   "metadata": {},
   "source": [
    "."
   ]
  },
  {
   "cell_type": "code",
   "execution_count": 3,
   "id": "15737cbf",
   "metadata": {},
   "outputs": [],
   "source": [
    "model.compile(loss=\"sparse_categorical_crossentropy\", optimizer=\"adam\", metrics=[\"accuracy\"])"
   ]
  },
  {
   "cell_type": "markdown",
   "id": "1e4249db",
   "metadata": {},
   "source": [
    "#### Train the model"
   ]
  },
  {
   "cell_type": "markdown",
   "id": "45e3cd73",
   "metadata": {},
   "source": [
    "."
   ]
  },
  {
   "cell_type": "code",
   "execution_count": 4,
   "id": "353fa8c2",
   "metadata": {},
   "outputs": [
    {
     "name": "stdout",
     "output_type": "stream",
     "text": [
      "Epoch 1/10\n",
      "7/7 [==============================] - 5s 179ms/step - loss: 1.1719 - accuracy: 0.3507 - val_loss: 1.0906 - val_accuracy: 0.3774\n",
      "Epoch 2/10\n",
      "7/7 [==============================] - 1s 95ms/step - loss: 1.0863 - accuracy: 0.3649 - val_loss: 1.0942 - val_accuracy: 0.3208\n",
      "Epoch 3/10\n",
      "7/7 [==============================] - 1s 94ms/step - loss: 1.0850 - accuracy: 0.3649 - val_loss: 1.0881 - val_accuracy: 0.3208\n",
      "Epoch 4/10\n",
      "7/7 [==============================] - 1s 94ms/step - loss: 1.0786 - accuracy: 0.3697 - val_loss: 1.0785 - val_accuracy: 0.4717\n",
      "Epoch 5/10\n",
      "7/7 [==============================] - 1s 99ms/step - loss: 1.0463 - accuracy: 0.5166 - val_loss: 1.0700 - val_accuracy: 0.4151\n",
      "Epoch 6/10\n",
      "7/7 [==============================] - 1s 93ms/step - loss: 1.0269 - accuracy: 0.5355 - val_loss: 1.0467 - val_accuracy: 0.3774\n",
      "Epoch 7/10\n",
      "7/7 [==============================] - 1s 107ms/step - loss: 0.9911 - accuracy: 0.4882 - val_loss: 1.0186 - val_accuracy: 0.4906\n",
      "Epoch 8/10\n",
      "7/7 [==============================] - 1s 107ms/step - loss: 0.9231 - accuracy: 0.6019 - val_loss: 1.0259 - val_accuracy: 0.4340\n",
      "Epoch 9/10\n",
      "7/7 [==============================] - 1s 108ms/step - loss: 0.9207 - accuracy: 0.5782 - val_loss: 0.9773 - val_accuracy: 0.5094\n",
      "Epoch 10/10\n",
      "7/7 [==============================] - 1s 107ms/step - loss: 0.8997 - accuracy: 0.6256 - val_loss: 0.9735 - val_accuracy: 0.5660\n"
     ]
    },
    {
     "data": {
      "text/plain": [
       "<keras.callbacks.History at 0x1a0c208ffd0>"
      ]
     },
     "execution_count": 4,
     "metadata": {},
     "output_type": "execute_result"
    }
   ],
   "source": [
    "model.fit(trainX, trainY, batch_size=32, epochs=10, validation_data=(testX, testY))"
   ]
  },
  {
   "cell_type": "markdown",
   "id": "e67f1d88",
   "metadata": {},
   "source": [
    "#### Save the model"
   ]
  },
  {
   "cell_type": "markdown",
   "id": "bb78ad36",
   "metadata": {},
   "source": [
    "."
   ]
  },
  {
   "cell_type": "code",
   "execution_count": null,
   "id": "376e5bb4",
   "metadata": {},
   "outputs": [],
   "source": [
    "model.save('emotion_model.h5')"
   ]
  },
  {
   "cell_type": "markdown",
   "id": "f6c719b9",
   "metadata": {},
   "source": [
    "#### Reload the model"
   ]
  },
  {
   "cell_type": "markdown",
   "id": "e60790a9",
   "metadata": {},
   "source": [
    "."
   ]
  },
  {
   "cell_type": "code",
   "execution_count": 5,
   "id": "d4d003ea",
   "metadata": {},
   "outputs": [],
   "source": [
    "from tensorflow.keras.models import load_model\n",
    "\n",
    "loaded_model = load_model('emotion_model.h5')\n"
   ]
  },
  {
   "cell_type": "markdown",
   "id": "8c7063a9",
   "metadata": {},
   "source": [
    "#### Evaluate the model"
   ]
  },
  {
   "cell_type": "markdown",
   "id": "8f810824",
   "metadata": {},
   "source": [
    "."
   ]
  },
  {
   "cell_type": "code",
   "execution_count": 6,
   "id": "d961abb9",
   "metadata": {},
   "outputs": [
    {
     "name": "stdout",
     "output_type": "stream",
     "text": [
      "2/2 [==============================] - 0s 21ms/step\n",
      "              precision    recall  f1-score   support\n",
      "\n",
      "       Angry       0.45      0.29      0.36        17\n",
      "       Happy       0.46      0.85      0.60        20\n",
      "         Sad       0.60      0.19      0.29        16\n",
      "\n",
      "    accuracy                           0.47        53\n",
      "   macro avg       0.50      0.44      0.41        53\n",
      "weighted avg       0.50      0.47      0.43        53\n",
      "\n"
     ]
    }
   ],
   "source": [
    "from sklearn.metrics import classification_report\n",
    "\n",
    "# Generate predictions on the test set\n",
    "y_pred = loaded_model.predict(testX)\n",
    "y_pred_classes = np.argmax(y_pred, axis=1)\n",
    "\n",
    "# Generate a classification report\n",
    "print(classification_report(testY, y_pred_classes, target_names=CATEGORIES))"
   ]
  },
  {
   "cell_type": "markdown",
   "id": "97b08a54",
   "metadata": {},
   "source": [
    "#### See the result with new images"
   ]
  },
  {
   "cell_type": "markdown",
   "id": "698e8243",
   "metadata": {},
   "source": [
    "."
   ]
  },
  {
   "cell_type": "code",
   "execution_count": 7,
   "id": "b9e6f346",
   "metadata": {},
   "outputs": [
    {
     "name": "stdout",
     "output_type": "stream",
     "text": [
      "1/1 [==============================] - 0s 171ms/step\n",
      "The model predicts that the emotion in the image is: Angry\n"
     ]
    }
   ],
   "source": [
    "\n",
    "# Load the trained model\n",
    "model = load_model('emotion_model.h5')\n",
    "\n",
    "# Load a new image\n",
    "img_path = 'new image.jpg'  # replace with your image path\n",
    "img_array = cv2.imread(img_path, cv2.IMREAD_GRAYSCALE)  # read image\n",
    "resized_array = cv2.resize(img_array, (IMG_SIZE, IMG_SIZE))  # resize image\n",
    "\n",
    "# Preprocess the image\n",
    "input_data = np.array(resized_array).reshape(-1, IMG_SIZE, IMG_SIZE, 1) / 255.0\n",
    "\n",
    "# Make a prediction\n",
    "prediction = model.predict(input_data)\n",
    "predicted_class = CATEGORIES[np.argmax(prediction)]\n",
    "\n",
    "print(f'The model predicts that the emotion in the image is: {predicted_class}')"
   ]
  },
  {
   "cell_type": "markdown",
   "id": "52da28bb",
   "metadata": {},
   "source": [
    "."
   ]
  },
  {
   "cell_type": "markdown",
   "id": "4fef0f87",
   "metadata": {},
   "source": [
    "#### Now try this model with your new or unseen images and see the result. "
   ]
  },
  {
   "cell_type": "markdown",
   "id": "1dd593a6",
   "metadata": {},
   "source": [
    "."
   ]
  },
  {
   "cell_type": "markdown",
   "id": "94e8535a",
   "metadata": {},
   "source": [
    "### Thank You"
   ]
  },
  {
   "cell_type": "code",
   "execution_count": null,
   "id": "1ea5c04d",
   "metadata": {},
   "outputs": [],
   "source": []
  }
 ],
 "metadata": {
  "kernelspec": {
   "display_name": "Python 3 (ipykernel)",
   "language": "python",
   "name": "python3"
  },
  "language_info": {
   "codemirror_mode": {
    "name": "ipython",
    "version": 3
   },
   "file_extension": ".py",
   "mimetype": "text/x-python",
   "name": "python",
   "nbconvert_exporter": "python",
   "pygments_lexer": "ipython3",
   "version": "3.9.13"
  }
 },
 "nbformat": 4,
 "nbformat_minor": 5
}
